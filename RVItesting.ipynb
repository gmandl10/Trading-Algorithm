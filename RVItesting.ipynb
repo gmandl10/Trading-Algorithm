{
 "cells": [
  {
   "cell_type": "code",
   "execution_count": 2,
   "metadata": {},
   "outputs": [],
   "source": [
    "from RVI import addRVI\n",
    "import pandas as pd\n",
    "import yfinance as yf\n",
    "from getDataFrame import getTickerDF\n",
    "import seaborn as sns"
   ]
  },
  {
   "cell_type": "code",
   "execution_count": 5,
   "metadata": {},
   "outputs": [],
   "source": [
    "s = yf.Ticker(\"MSFT\")\n",
    "df = s.history(period = \"5y\", i = \"1d\").loc[:, [\"Open\", \"High\", \"Low\", \"Close\", \"Volume\"]]\n",
    "df = addRVI(df)\n",
    "\n",
    "RVIdivergence = df[\"RVIDivergence\"]\n",
    "crossover = df[\"RVICrossover\"]\n",
    "price = (df[\"High\"] + df[\"Low\"] + df[\"Close\"])/3"
   ]
  },
  {
   "cell_type": "code",
   "execution_count": 6,
   "metadata": {},
   "outputs": [
    {
     "data": {
      "text/plain": [
       "<AxesSubplot:>"
      ]
     },
     "execution_count": 6,
     "metadata": {},
     "output_type": "execute_result"
    },
    {
     "data": {
      "image/png": "[encoded data removed]",
      "text/plain": [
       "<Figure size 432x288 with 1 Axes>"
      ]
     },
     "metadata": {
      "needs_background": "light"
     },
     "output_type": "display_data"
    }
   ],
   "source": [
    "days = []\n",
    "accuracy = [] \n",
    "for i in range(2,50):\n",
    "    ts = 0\n",
    "    fs = 0\n",
    "    for j in range(0, len(crossover)-i):\n",
    "        if crossover[j] == \"Sell\" and price[j] < price[j+i]:\n",
    "            fs += 1\n",
    "        elif crossover[j] == \"Buy\" and price[j] > price[j+i]:\n",
    "            fs += 1\n",
    "        elif crossover[j] == \"Buy\" and price[j] < price[j+i]:\n",
    "            ts += 1\n",
    "        elif crossover[j] == \"Sell\" and price[j] > price[j+i]:\n",
    "            ts += 1\n",
    "    days.append(i)\n",
    "    accuracy.append(ts/(ts+fs))\n",
    "\n",
    "sns.scatterplot(x=days, y = accuracy)"
   ]
  },
  {
   "cell_type": "code",
   "execution_count": 7,
   "metadata": {},
   "outputs": [
    {
     "data": {
      "text/plain": [
       "<AxesSubplot:>"
      ]
     },
     "execution_count": 7,
     "metadata": {},
     "output_type": "execute_result"
    },
    {
     "data": {
      "image/png": "[encoded data removed]",
      "text/plain": [
       "<Figure size 432x288 with 1 Axes>"
      ]
     },
     "metadata": {
      "needs_background": "light"
     },
     "output_type": "display_data"
    }
   ],
   "source": [
    "days = []\n",
    "accuracy = [] \n",
    "for i in range(2,50):\n",
    "    ts = 0\n",
    "    fs = 0\n",
    "    for j in range(0, len(RVIdivergence)-i):\n",
    "        if RVIdivergence[j] == \"Sell\" and price[j] < price[j+i]:\n",
    "            fs += 1\n",
    "        elif RVIdivergence[j] == \"Buy\" and price[j] > price[j+i]:\n",
    "            fs += 1\n",
    "        elif RVIdivergence[j] == \"Buy\" and price[j] < price[j+i]:\n",
    "            ts += 1\n",
    "        elif RVIdivergence[j] == \"Sell\" and price[j] > price[j+i]:\n",
    "            ts += 1\n",
    "    days.append(i)\n",
    "    accuracy.append(ts/(ts+fs))\n",
    "\n",
    "sns.scatterplot(x=days, y = accuracy)"
   ]
  }
 ],
 "metadata": {
  "kernelspec": {
   "display_name": "Python 3.8.5 32-bit",
   "language": "python",
   "name": "python3"
  },
  "language_info": {
   "codemirror_mode": {
    "name": "ipython",
    "version": 3
   },
   "file_extension": ".py",
   "mimetype": "text/x-python",
   "name": "python",
   "nbconvert_exporter": "python",
   "pygments_lexer": "ipython3",
   "version": "3.8.5"
  },
  "orig_nbformat": 4,
  "vscode": {
   "interpreter": {
    "hash": "094235a55d85057d53619425e9fa7272f42138370ff89ed7c21dfe2eb48e4544"
   }
  }
 },
 "nbformat": 4,
 "nbformat_minor": 2
}
