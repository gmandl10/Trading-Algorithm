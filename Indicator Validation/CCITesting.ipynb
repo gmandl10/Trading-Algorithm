{
 "cells": [
  {
   "cell_type": "code",
   "execution_count": 1,
   "metadata": {},
   "outputs": [],
   "source": [
    "from CCI import addCCI\n",
    "import pandas as pd\n",
    "import yfinance as yf\n",
    "import seaborn as sns\n",
    "import matplotlib.pyplot as plt\n",
    "import numpy as np"
   ]
  },
  {
   "cell_type": "code",
   "execution_count": 2,
   "metadata": {},
   "outputs": [],
   "source": [
    "#Create dataframe and define price and CCI series for testing\n",
    "s = yf.Ticker(\"MSFT\")\n",
    "df = s.history(period = \"5y\", i = \"1d\").loc[:, [\"Open\", \"High\", \"Low\", \"Close\", \"Volume\"]]\n",
    "df = addCCI(df)\n",
    "cci = df[\"CCIIndicator\"]\n",
    "price = (df[\"High\"] + df[\"Low\"] + df[\"Close\"])/3"
   ]
  },
  {
   "cell_type": "code",
   "execution_count": 4,
   "metadata": {},
   "outputs": [
    {
     "data": {
      "image/png": "[encoded data removed]",
      "text/plain": [
       "<Figure size 432x288 with 1 Axes>"
      ]
     },
     "metadata": {
      "needs_background": "light"
     },
     "output_type": "display_data"
    }
   ],
   "source": [
    "#Accuracy of CCI Indictor\n",
    "days = []\n",
    "accuracy = [] \n",
    "for i in range(2,50):\n",
    "    ts = 0 #initialize true signal\n",
    "    fs = 0 # initialize false signal\n",
    "    for j in range(0, len(cci)-i):\n",
    "        if cci[j] == \"Sell\" and price[j] < price[j+i]: #overbought but price increases\n",
    "            fs += 1\n",
    "        elif cci[j] == \"Buy\" and price[j] > price[j+i]: #oversold but price decreases\n",
    "            fs += 1 \n",
    "        elif cci[j] == \"Buy\" and price[j] < price[j+i]: #oversold and price increases\n",
    "            ts += 1\n",
    "        elif cci[j] == \"Sell\" and price[j] > price[j+i]: #overbought and price decreases\n",
    "            ts += 1\n",
    "    days.append(i)\n",
    "    accuracy.append(ts/(ts+fs))\n",
    "\n",
    "graph = sns.scatterplot(x=days, y = accuracy)\n",
    "graph.set(title = \"CCI accuracy at predicting future price movements\", xlabel = \"Days in future\", ylabel = \"Accuracy\")\n",
    "plt.show()"
   ]
  }
 ],
 "metadata": {
  "kernelspec": {
   "display_name": "Python 3.8.5 32-bit",
   "language": "python",
   "name": "python3"
  },
  "language_info": {
   "codemirror_mode": {
    "name": "ipython",
    "version": 3
   },
   "file_extension": ".py",
   "mimetype": "text/x-python",
   "name": "python",
   "nbconvert_exporter": "python",
   "pygments_lexer": "ipython3",
   "version": "3.8.5"
  },
  "orig_nbformat": 4,
  "vscode": {
   "interpreter": {
    "hash": "094235a55d85057d53619425e9fa7272f42138370ff89ed7c21dfe2eb48e4544"
   }
  }
 },
 "nbformat": 4,
 "nbformat_minor": 2
}
